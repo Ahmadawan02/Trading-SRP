{
 "cells": [
  {
   "cell_type": "code",
   "execution_count": null,
   "metadata": {},
   "outputs": [],
   "source": [
    "import tkinter as tk\n",
    "from tkinter import messagebox"
   ]
  },
  {
   "cell_type": "markdown",
   "metadata": {},
   "source": []
  },
  {
   "cell_type": "code",
   "execution_count": null,
   "metadata": {},
   "outputs": [],
   "source": []
  },
  {
   "cell_type": "markdown",
   "metadata": {},
   "source": [
    "# Function to calculate pivot levels"
   ]
  },
  {
   "cell_type": "code",
   "execution_count": null,
   "metadata": {},
   "outputs": [],
   "source": [
    "def calculate_pivot_levels():\n",
    "    try:\n",
    "        # Get input values from entry fields\n",
    "        high = float(high_entry.get())\n",
    "        low = float(low_entry.get())\n",
    "        close = float(close_entry.get())\n",
    "        \n",
    "        # Calculate Pivot Point and levels\n",
    "        pp = (high + low + close) / 3\n",
    "        r1 = (2 * pp) - low\n",
    "        s1 = (2 * pp) - high\n",
    "        r2 = pp + (high - low)\n",
    "        s2 = pp - (high - low)\n",
    "        r3 = high + 2 * (pp - low)\n",
    "        s3 = low - 2 * (high - pp)\n",
    "        \n",
    "        # Display the results\n",
    "        result_text.set(f\"\"\"\n",
    "        Pivot Point (PP): {pp:.2f}\n",
    "        Resistance 1 (R1): {r1:.2f}\n",
    "        Support 1 (S1): {s1:.2f}\n",
    "        Resistance 2 (R2): {r2:.2f}\n",
    "        Support 2 (S2): {s2:.2f}\n",
    "        Resistance 3 (R3): {r3:.2f}\n",
    "        Support 3 (S3): {s3:.2f}\n",
    "        \"\"\")\n",
    "    except ValueError:\n",
    "        messagebox.showerror(\"Invalid Input\", \"Please enter valid numerical values.\")"
   ]
  },
  {
   "cell_type": "markdown",
   "metadata": {},
   "source": [
    "# Create the main Tkinter window"
   ]
  },
  {
   "cell_type": "code",
   "execution_count": null,
   "metadata": {},
   "outputs": [],
   "source": [
    "root = tk.Tk()\n",
    "root.title(\"Pivot Point Calculator\")\n"
   ]
  },
  {
   "cell_type": "markdown",
   "metadata": {},
   "source": [
    "# Input fields for High, Low, and Close values"
   ]
  },
  {
   "cell_type": "code",
   "execution_count": null,
   "metadata": {},
   "outputs": [],
   "source": [
    "tk.Label(root, text=\"Enter High Value:\").grid(row=0, column=0, padx=10, pady=5, sticky=\"e\")\n",
    "high_entry = tk.Entry(root)\n",
    "high_entry.grid(row=0, column=1, padx=10, pady=5)\n",
    "\n",
    "tk.Label(root, text=\"Enter Low Value:\").grid(row=1, column=0, padx=10, pady=5, sticky=\"e\")\n",
    "low_entry = tk.Entry(root)\n",
    "low_entry.grid(row=1, column=1, padx=10, pady=5)\n",
    "\n",
    "tk.Label(root, text=\"Enter Close Value:\").grid(row=2, column=0, padx=10, pady=5, sticky=\"e\")\n",
    "close_entry = tk.Entry(root)\n",
    "close_entry.grid(row=2, column=1, padx=10, pady=5)\n"
   ]
  },
  {
   "cell_type": "markdown",
   "metadata": {},
   "source": [
    "# Calculate button"
   ]
  },
  {
   "cell_type": "code",
   "execution_count": null,
   "metadata": {},
   "outputs": [],
   "source": [
    "calculate_button = tk.Button(root, text=\"Calculate\", command=calculate_pivot_levels)\n",
    "calculate_button.grid(row=3, column=0, columnspan=2, pady=10)"
   ]
  },
  {
   "cell_type": "markdown",
   "metadata": {},
   "source": [
    "# Output field"
   ]
  },
  {
   "cell_type": "code",
   "execution_count": null,
   "metadata": {},
   "outputs": [],
   "source": [
    "result_text = tk.StringVar()\n",
    "result_label = tk.Label(root, textvariable=result_text, justify=\"left\", font=(\"Arial\", 10), fg=\"blue\")\n",
    "result_label.grid(row=4, column=0, columnspan=2, padx=10, pady=10)"
   ]
  },
  {
   "cell_type": "markdown",
   "metadata": {},
   "source": [
    "# Run the Tkinter main loop"
   ]
  },
  {
   "cell_type": "code",
   "execution_count": null,
   "metadata": {},
   "outputs": [],
   "source": [
    "root.mainloop()"
   ]
  }
 ],
 "metadata": {
  "kernelspec": {
   "display_name": "Python 3",
   "language": "python",
   "name": "python3"
  },
  "language_info": {
   "codemirror_mode": {
    "name": "ipython",
    "version": 3
   },
   "file_extension": ".py",
   "mimetype": "text/x-python",
   "name": "python",
   "nbconvert_exporter": "python",
   "pygments_lexer": "ipython3",
   "version": "3.13.1"
  }
 },
 "nbformat": 4,
 "nbformat_minor": 2
}
